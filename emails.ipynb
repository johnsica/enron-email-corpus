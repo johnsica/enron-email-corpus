{
 "cells": [
  {
   "cell_type": "code",
   "execution_count": 1,
   "id": "dangerous-atlas",
   "metadata": {},
   "outputs": [
    {
     "name": "stdout",
     "output_type": "stream",
     "text": [
      "Requirement already satisfied: nltk in ./env/lib/python3.8/site-packages (from -r requirements.txt (line 1)) (3.5)\n",
      "Requirement already satisfied: pandas in ./env/lib/python3.8/site-packages (from -r requirements.txt (line 2)) (1.2.1)\n",
      "Requirement already satisfied: numpy in ./env/lib/python3.8/site-packages (from -r requirements.txt (line 3)) (1.20.1)\n",
      "Requirement already satisfied: seaborn in ./env/lib/python3.8/site-packages (from -r requirements.txt (line 4)) (0.11.1)\n",
      "Requirement already satisfied: matplotlib in ./env/lib/python3.8/site-packages (from -r requirements.txt (line 5)) (3.3.4)\n",
      "Requirement already satisfied: sklearn in ./env/lib/python3.8/site-packages (from -r requirements.txt (line 6)) (0.0)\n",
      "Requirement already satisfied: cycler>=0.10 in ./env/lib/python3.8/site-packages (from matplotlib->-r requirements.txt (line 5)) (0.10.0)\n",
      "Requirement already satisfied: kiwisolver>=1.0.1 in ./env/lib/python3.8/site-packages (from matplotlib->-r requirements.txt (line 5)) (1.3.1)\n",
      "Requirement already satisfied: pillow>=6.2.0 in ./env/lib/python3.8/site-packages (from matplotlib->-r requirements.txt (line 5)) (8.1.0)\n",
      "Requirement already satisfied: pyparsing!=2.0.4,!=2.1.2,!=2.1.6,>=2.0.3 in ./env/lib/python3.8/site-packages (from matplotlib->-r requirements.txt (line 5)) (2.4.7)\n",
      "Requirement already satisfied: python-dateutil>=2.1 in ./env/lib/python3.8/site-packages (from matplotlib->-r requirements.txt (line 5)) (2.8.1)\n",
      "Requirement already satisfied: six in ./env/lib/python3.8/site-packages (from cycler>=0.10->matplotlib->-r requirements.txt (line 5)) (1.15.0)\n",
      "Requirement already satisfied: tqdm in ./env/lib/python3.8/site-packages (from nltk->-r requirements.txt (line 1)) (4.56.0)\n",
      "Requirement already satisfied: joblib in ./env/lib/python3.8/site-packages (from nltk->-r requirements.txt (line 1)) (1.0.0)\n",
      "Requirement already satisfied: click in ./env/lib/python3.8/site-packages (from nltk->-r requirements.txt (line 1)) (7.1.2)\n",
      "Requirement already satisfied: regex in ./env/lib/python3.8/site-packages (from nltk->-r requirements.txt (line 1)) (2020.11.13)\n",
      "Requirement already satisfied: pytz>=2017.3 in ./env/lib/python3.8/site-packages (from pandas->-r requirements.txt (line 2)) (2021.1)\n",
      "Requirement already satisfied: scipy>=1.0 in ./env/lib/python3.8/site-packages (from seaborn->-r requirements.txt (line 4)) (1.6.0)\n",
      "Requirement already satisfied: scikit-learn in ./env/lib/python3.8/site-packages (from sklearn->-r requirements.txt (line 6)) (0.24.1)\n",
      "Requirement already satisfied: threadpoolctl>=2.0.0 in ./env/lib/python3.8/site-packages (from scikit-learn->sklearn->-r requirements.txt (line 6)) (2.1.0)\n",
      "\u001b[33mWARNING: You are using pip version 20.3.3; however, version 21.0.1 is available.\n",
      "You should consider upgrading via the '/Users/johnsica/projects/alaffia/env/bin/python -m pip install --upgrade pip' command.\u001b[0m\n"
     ]
    },
    {
     "name": "stderr",
     "output_type": "stream",
     "text": [
      "Matplotlib created a temporary config/cache directory at /var/folders/2r/d_g805s148zd3dd01yqq5qtr0000gn/T/matplotlib-r_5jnrnj because the default path (/Users/johnsica/.matplotlib) is not a writable directory; it is highly recommended to set the MPLCONFIGDIR environment variable to a writable directory, in particular to speed up the import of Matplotlib and to better support multiprocessing.\n",
      "[nltk_data] Downloading package stopwords to\n",
      "[nltk_data]     /Users/johnsica/nltk_data...\n",
      "[nltk_data]   Package stopwords is already up-to-date!\n",
      "[nltk_data] Downloading package stopwords to\n",
      "[nltk_data]     /Users/johnsica/nltk_data...\n",
      "[nltk_data]   Package stopwords is already up-to-date!\n"
     ]
    }
   ],
   "source": [
    "!pip3 install -r requirements.txt\n",
    "import os\n",
    "import re\n",
    "import glob\n",
    "import string\n",
    "import datetime\n",
    "from cluster import Cluster\n",
    "import matplotlib.pyplot as plt\n",
    "import pandas as pd\n",
    "import numpy as np\n",
    "import seaborn as sns\n",
    "import email\n",
    "import nltk\n",
    "from nltk.tokenize import word_tokenize\n",
    "from nltk.corpus import stopwords\n",
    "from nltk.stem import WordNetLemmatizer\n",
    "stem = WordNetLemmatizer()\n",
    "nltk.download('stopwords')\n",
    "stopwords_list = stopwords.words('english')\n"
   ]
  },
  {
   "cell_type": "markdown",
   "id": "alert-cookbook",
   "metadata": {},
   "source": [
    "#### Clean email documents and store in dataframe"
   ]
  },
  {
   "cell_type": "code",
   "execution_count": 2,
   "id": "periodic-headquarters",
   "metadata": {},
   "outputs": [],
   "source": [
    "def parse_folder(folder):\n",
    "    df = pd.DataFrame(columns=columns)\n",
    "    for index,file in enumerate(folder):\n",
    "        if 'genie' in file:\n",
    "            continue\n",
    "        df.loc[index,'category'] = file.split('skilling-j/')[1].split('/')[0]\n",
    "        try:\n",
    "            with open(file,'r') as f:\n",
    "                content = email.message_from_file(f)\n",
    "        except:\n",
    "            with open(file,'r',encoding=\"latin-1\") as f:\n",
    "                content = email.message_from_file(f)\n",
    "\n",
    "        df.loc[index,'ID'] = content.get('Message-ID')\n",
    "        df.loc[index,'Date'] = datetime.datetime.strptime(content.get('Date').split('(')[0].strip(),'%a, %d %b %Y %H:%M:%S %z')\n",
    "        df.loc[index,'From'] = content.get('From')\n",
    "        df.loc[index,'To'] = content.get('To')\n",
    "        subject = content.get('Subject').lower()\n",
    "        subject = re.sub(r\"[@='_,;.!\\?\\-:#$%&\\b\\d+\\b]\",'', subject)\n",
    "        subject = [word for word in subject.split() if word not in stopwords_list]\n",
    "        df.at[index,'Subject'] = ' '.join([stem.lemmatize(word) for word in subject])\n",
    "        df.loc[index,'Mime-Version'] = content.get('Mime-Version')\n",
    "        df.loc[index,'Content-Type'] = content.get('Content-Type')\n",
    "        df.loc[index,'Content-Transer-Encoding'] = content.get('Content-Transer-Encoding')\n",
    "        df.loc[index,'X-From'] = content.get('X-From')\n",
    "        df.loc[index,'X-To'] = content.get('X-To')\n",
    "        df.loc[index,'X-cc'] = content.get('X-cc')\n",
    "        df.loc[index,'X-bcc'] = content.get('X-bcc')\n",
    "        df.loc[index,'X-Folder'] = content.get('X-Folder')\n",
    "        df.loc[index,'X-Origin'] = content.get('X-Origin')\n",
    "        df.loc[index,'X-FileName'] = content.get('X-FileName')\n",
    "        content = content.get_payload().lower()\n",
    "        content = content.replace('\\n',' ')\n",
    "        content = content.replace('yahoo',' ')\n",
    "        content = re.sub(r\"[@='_,;.!\\?\\-:#$%&\\b\\d+\\b]\",'', content)\n",
    "        sent = [word for word in content.split() if word not in stopwords_list]\n",
    "        body = ' '.join([stem.lemmatize(word) for word in sent])\n",
    "        df.at[index,'body'] = body\n",
    "        f.close()\n",
    "    return df\n",
    "    \n",
    "    "
   ]
  },
  {
   "cell_type": "code",
   "execution_count": 3,
   "id": "afraid-superintendent",
   "metadata": {},
   "outputs": [],
   "source": [
    "columns = [\n",
    "    'ID',\n",
    "    'Date',\n",
    "    'From',\n",
    "    'To',\n",
    "    'Subject',\n",
    "    'Mime-Version',\n",
    "    'Content-Type',\n",
    "    'Content-Transfer-Encoding',\n",
    "    'X-From',\n",
    "    'X-To',\n",
    "    'X-cc',\n",
    "    'X-bcc',\n",
    "    'X-Folder',\n",
    "    'X-Origin',\n",
    "    'X-FileName',\n",
    "    'body'\n",
    "]\n"
   ]
  },
  {
   "cell_type": "code",
   "execution_count": 4,
   "id": "residential-vitamin",
   "metadata": {},
   "outputs": [],
   "source": [
    "# initialize dataframes\n",
    "skilling_folder = glob.glob(os.getcwd()+'/data/skilling-j/*')\n",
    "notes_inbox = parse_folder(glob.glob(skilling_folder[0]+'/*'))\n",
    "deleted_items = parse_folder(glob.glob(skilling_folder[1]+'/*'))\n",
    "calendar = parse_folder(glob.glob(skilling_folder[2]+'/*'))\n",
    "inbox = parse_folder(glob.glob(skilling_folder[3]+'/*'))\n",
    "discussion_threads = parse_folder(glob.glob(skilling_folder[4]+'/*'))\n",
    "contacts = parse_folder(glob.glob(skilling_folder[5]+'/*'))\n",
    "sent_items = parse_folder(glob.glob(skilling_folder[6]+'/*'))\n",
    "mark = parse_folder(glob.glob(skilling_folder[7]+'/*'))\n",
    "sent = parse_folder(glob.glob(skilling_folder[8]+'/*'))\n",
    "_sent_mail = parse_folder(glob.glob(skilling_folder[9]+'/*'))\n",
    "all_documents = parse_folder(glob.glob(skilling_folder[10]+'/*'))\n",
    "\n",
    "df_all_docs = pd.concat([\n",
    "    notes_inbox,\n",
    "    deleted_items,\n",
    "    calendar,\n",
    "    inbox,\n",
    "    discussion_threads,\n",
    "    contacts,\n",
    "    sent_items,\n",
    "    mark,\n",
    "    sent,\n",
    "    _sent_mail,\n",
    "    all_documents\n",
    "],ignore_index=True)\n"
   ]
  },
  {
   "cell_type": "markdown",
   "id": "familiar-monday",
   "metadata": {},
   "source": [
    "### Flagged words"
   ]
  },
  {
   "cell_type": "code",
   "execution_count": 5,
   "id": "english-testament",
   "metadata": {},
   "outputs": [],
   "source": [
    "bankruptcy_idx,litigation_idx,fraud_idx = [],[],[]\n",
    "for index,row in df_all_docs.iterrows():\n",
    "    if 'fraud' in row['body'] or 'fraud' in row['Subject']:\n",
    "        fraud_idx.append(index)\n",
    "    if 'bankrupt' in row['body'] or 'bankrupt' in row['Subject']:\n",
    "        bankruptcy_idx.append(index)\n",
    "    for word in ['litigate','litigation']:\n",
    "        if word in row['body'] or word in row['Subject'] and index not in litigation_idx:\n",
    "            litigation_idx.append(index)\n",
    "            \n",
    "df_fraud = df_all_docs[df_all_docs.index.isin(fraud_idx)]\n",
    "df_bankrupt = df_all_docs[df_all_docs.index.isin(bankruptcy_idx)]\n",
    "df_litigation = df_all_docs[df_all_docs.index.isin(litigation_idx)]\n"
   ]
  },
  {
   "cell_type": "markdown",
   "id": "compliant-costa",
   "metadata": {},
   "source": [
    "### Litigation keyword model"
   ]
  },
  {
   "cell_type": "code",
   "execution_count": 6,
   "id": "hollywood-rally",
   "metadata": {},
   "outputs": [],
   "source": [
    "lit_model = Cluster(df_litigation,4)"
   ]
  },
  {
   "cell_type": "code",
   "execution_count": 7,
   "id": "baking-palmer",
   "metadata": {},
   "outputs": [
    {
     "data": {
      "text/plain": [
       "array([-1,  0,  0,  0,  0,  0, -1, -1, -1, -1])"
      ]
     },
     "execution_count": 7,
     "metadata": {},
     "output_type": "execute_result"
    },
    {
     "data": {
      "image/png": "[encoded data removed]",
      "text/plain": [
       "<Figure size 432x288 with 1 Axes>"
      ]
     },
     "metadata": {
      "needs_background": "light"
     },
     "output_type": "display_data"
    }
   ],
   "source": [
    "lit_model.dbscan(0.4)"
   ]
  },
  {
   "cell_type": "code",
   "execution_count": 8,
   "id": "specialized-wisconsin",
   "metadata": {},
   "outputs": [],
   "source": [
    "lit_features = lit_model.get_top_features(30)"
   ]
  },
  {
   "cell_type": "code",
   "execution_count": 9,
   "id": "armed-teacher",
   "metadata": {},
   "outputs": [
    {
     "data": {
      "text/plain": [
       "<AxesSubplot:xlabel='score', ylabel='features'>"
      ]
     },
     "execution_count": 9,
     "metadata": {},
     "output_type": "execute_result"
    },
    {
     "data": {
      "image/png": "[encoded data removed]",
      "text/plain": [
       "<Figure size 576x432 with 1 Axes>"
      ]
     },
     "metadata": {
      "needs_background": "light"
     },
     "output_type": "display_data"
    }
   ],
   "source": [
    "# features[2] offers interesting top features (brownell,ferc,lawsuit,litigation,problem)\n",
    "# features[0] has many features related to markets/trading\n",
    "plt.figure(figsize=(8,6))\n",
    "sns.barplot(x='score',y='features',orient='h', data = lit_features[2][:30])"
   ]
  },
  {
   "cell_type": "code",
   "execution_count": 10,
   "id": "through-england",
   "metadata": {},
   "outputs": [],
   "source": [
    "lit_common = lit_model.get_common_words()\n"
   ]
  },
  {
   "cell_type": "markdown",
   "id": "absent-microphone",
   "metadata": {},
   "source": [
    "### Fraud keyword model"
   ]
  },
  {
   "cell_type": "code",
   "execution_count": 11,
   "id": "portuguese-western",
   "metadata": {},
   "outputs": [],
   "source": [
    "fraud_model = Cluster(df_fraud,4)"
   ]
  },
  {
   "cell_type": "code",
   "execution_count": 12,
   "id": "important-minnesota",
   "metadata": {},
   "outputs": [
    {
     "data": {
      "text/plain": [
       "array([ 0,  0,  0,  0,  0, -1, -1, -1, -1])"
      ]
     },
     "execution_count": 12,
     "metadata": {},
     "output_type": "execute_result"
    },
    {
     "data": {
      "image/png": "[encoded data removed]",
      "text/plain": [
       "<Figure size 432x288 with 1 Axes>"
      ]
     },
     "metadata": {
      "needs_background": "light"
     },
     "output_type": "display_data"
    }
   ],
   "source": [
    "fraud_model.dbscan(0.6)"
   ]
  },
  {
   "cell_type": "code",
   "execution_count": 13,
   "id": "minute-assessment",
   "metadata": {},
   "outputs": [],
   "source": [
    "fraud_features = fraud_model.get_top_features(30)"
   ]
  },
  {
   "cell_type": "code",
   "execution_count": 14,
   "id": "alert-visit",
   "metadata": {},
   "outputs": [
    {
     "data": {
      "text/plain": [
       "<AxesSubplot:xlabel='score', ylabel='features'>"
      ]
     },
     "execution_count": 14,
     "metadata": {},
     "output_type": "execute_result"
    },
    {
     "data": {
      "image/png": "[encoded data removed]",
      "text/plain": [
       "<Figure size 576x432 with 1 Axes>"
      ]
     },
     "metadata": {
      "needs_background": "light"
     },
     "output_type": "display_data"
    }
   ],
   "source": [
    "plt.figure(figsize=(8,6))\n",
    "sns.barplot(x='score',y='features',orient='h', data = fraud_features[3][:30])"
   ]
  },
  {
   "cell_type": "markdown",
   "id": "hybrid-bishop",
   "metadata": {},
   "source": [
    "#### Bankruptcy keyword model"
   ]
  },
  {
   "cell_type": "code",
   "execution_count": 15,
   "id": "visible-avenue",
   "metadata": {},
   "outputs": [],
   "source": [
    "bankruptcy_model = Cluster(df_bankrupt,4)"
   ]
  },
  {
   "cell_type": "code",
   "execution_count": 16,
   "id": "objective-porcelain",
   "metadata": {},
   "outputs": [],
   "source": [
    "bankruptcy_features = bankruptcy_model.get_top_features(30)"
   ]
  },
  {
   "cell_type": "code",
   "execution_count": 17,
   "id": "constitutional-measurement",
   "metadata": {},
   "outputs": [
    {
     "data": {
      "text/plain": [
       "<AxesSubplot:xlabel='score', ylabel='features'>"
      ]
     },
     "execution_count": 17,
     "metadata": {},
     "output_type": "execute_result"
    },
    {
     "data": {
      "image/png": "[encoded data removed]",
      "text/plain": [
       "<Figure size 648x576 with 1 Axes>"
      ]
     },
     "metadata": {
      "needs_background": "light"
     },
     "output_type": "display_data"
    }
   ],
   "source": [
    "plt.figure(figsize=(9,8))\n",
    "sns.barplot(x='score',y='features',orient='h', data = bankruptcy_features[0][:30])"
   ]
  },
  {
   "cell_type": "markdown",
   "id": "institutional-probability",
   "metadata": {},
   "source": [
    "### Key Time Frame"
   ]
  },
  {
   "cell_type": "code",
   "execution_count": 18,
   "id": "awful-compact",
   "metadata": {},
   "outputs": [],
   "source": [
    "# looking through documents leading up to skilling's resignation - august 14, 2001\n",
    "key_idx = []\n",
    "for idx,row in df_all_docs.iterrows():\n",
    "    dt = datetime.date(row['Date'].year,row['Date'].month,row['Date'].day)\n",
    "    if dt > datetime.date(2001,6,29) and dt < datetime.date(2001,8,15):\n",
    "        key_idx.append(idx)\n",
    "\n",
    "df_key_timeframe = df_all_docs[df_all_docs.index.isin(key_idx)]\n",
    "key_timeframe_model = Cluster(df_key_timeframe,3)\n"
   ]
  },
  {
   "cell_type": "code",
   "execution_count": 19,
   "id": "saving-object",
   "metadata": {},
   "outputs": [
    {
     "data": {
      "image/png": "[encoded data removed]",
      "text/plain": [
       "<Figure size 432x288 with 1 Axes>"
      ]
     },
     "metadata": {
      "needs_background": "light"
     },
     "output_type": "display_data"
    }
   ],
   "source": [
    "key_timeframe_model.plot_data(key_timeframe_model.labels)"
   ]
  },
  {
   "cell_type": "code",
   "execution_count": 20,
   "id": "acceptable-shareware",
   "metadata": {},
   "outputs": [
    {
     "data": {
      "image/png": "[encoded data removed]",
      "text/plain": [
       "<Figure size 432x288 with 1 Axes>"
      ]
     },
     "metadata": {
      "needs_background": "light"
     },
     "output_type": "display_data"
    }
   ],
   "source": [
    "clusters = key_timeframe_model.dbscan(0.3)"
   ]
  },
  {
   "cell_type": "code",
   "execution_count": 21,
   "id": "stuck-amplifier",
   "metadata": {},
   "outputs": [],
   "source": [
    "timeframe_features = key_timeframe_model.get_top_features(30)"
   ]
  },
  {
   "cell_type": "code",
   "execution_count": 43,
   "id": "private-agent",
   "metadata": {},
   "outputs": [
    {
     "data": {
      "text/plain": [
       "<AxesSubplot:xlabel='score', ylabel='features'>"
      ]
     },
     "execution_count": 43,
     "metadata": {},
     "output_type": "execute_result"
    },
    {
     "data": {
      "image/png": "[encoded data removed]",
      "text/plain": [
       "<Figure size 648x576 with 1 Axes>"
      ]
     },
     "metadata": {
      "needs_background": "light"
     },
     "output_type": "display_data"
    }
   ],
   "source": [
    "plt.figure(figsize=(9,8))\n",
    "sns.barplot(x='score',y='features',orient='h', data = timeframe_features[1][:30])"
   ]
  },
  {
   "cell_type": "code",
   "execution_count": 44,
   "id": "modified-kingdom",
   "metadata": {},
   "outputs": [
    {
     "name": "stdout",
     "output_type": "stream",
     "text": [
      "('skilling', 948)\n",
      "('please', 948)\n",
      "('dear', 632)\n",
      "('ljm', 632)\n",
      "('plan', 632)\n",
      "('attend', 632)\n",
      "('new', 632)\n",
      "('business', 632)\n",
      "('creation', 632)\n",
      "('original', 632)\n",
      "('message', 632)\n",
      "('wednesday', 632)\n",
      "('246', 316)\n",
      "('minute', 316)\n",
      "('could', 316)\n",
      "('get', 316)\n",
      "('enron', 316)\n",
      "('federal', 316)\n",
      "('credit', 316)\n",
      "('union', 316)\n",
      "('su', 316)\n",
      "('247', 316)\n",
      "('guy', 316)\n",
      "('currently', 316)\n",
      "('vacation', 316)\n",
      "('unable', 316)\n",
      "('deliver', 316)\n",
      "('person', 316)\n",
      "('h', 316)\n",
      "('249', 316)\n",
      "('messrs', 316)\n",
      "('lay', 316)\n",
      "('writing', 316)\n",
      "('hope', 316)\n",
      "('assist', 316)\n",
      "('c', 316)\n",
      "('250', 316)\n",
      "('mr', 316)\n",
      "('mphasis', 316)\n",
      "('global', 316)\n",
      "('multicul', 316)\n",
      "('252', 316)\n",
      "('note', 316)\n",
      "('coinvestment', 316)\n",
      "('lp', 316)\n",
      "('longer', 316)\n",
      "('2648', 316)\n",
      "('fernando', 316)\n",
      "('receive', 316)\n",
      "('email', 316)\n",
      "('wanted', 316)\n",
      "('assure', 316)\n",
      "('concern', 316)\n",
      "('2658', 316)\n",
      "('wed', 316)\n",
      "('2662', 316)\n",
      "('jeff', 316)\n",
      "('sent', 316)\n",
      "('2666', 316)\n",
      "('actual', 316)\n",
      "('date', 316)\n",
      "('august', 316)\n",
      "('2675', 316)\n",
      "('tue', 316)\n",
      "('Name', 316)\n",
      "('body', 316)\n",
      "('Length', 316)\n",
      "('316', 316)\n",
      "('dtype', 316)\n",
      "('object', 316)\n"
     ]
    }
   ],
   "source": [
    "common_words = key_timeframe_model.get_common_words()\n",
    "for word in common_words.most_common(100):\n",
    "    print(word)"
   ]
  },
  {
   "cell_type": "markdown",
   "id": "mediterranean-sandwich",
   "metadata": {},
   "source": [
    "### Most messaged contacts"
   ]
  },
  {
   "cell_type": "code",
   "execution_count": 23,
   "id": "underlying-favor",
   "metadata": {},
   "outputs": [],
   "source": [
    "frequency = {}\n",
    "for index,row in df_all_docs.iterrows():\n",
    "    if row['To'] and ',' in row['To']:\n",
    "        to = row['To'].split(',')\n",
    "        for t in to:\n",
    "            if t.strip() == 'jeff.skilling@enron.com':\n",
    "                continue\n",
    "            if t.strip() in frequency:\n",
    "                frequency.update({t.strip():frequency.get(t.strip())+1})\n",
    "            else:\n",
    "                frequency.update({t.strip():1})\n",
    "    elif row['To']:\n",
    "        if row['To'].strip() != 'jeff.skilling@enron.com':\n",
    "            if row['To'].strip() in frequency:\n",
    "                frequency.update({row['To'].strip():frequency.get(row['To'].strip())+1})\n",
    "            else:\n",
    "                frequency.update({row['To'].strip():1})\n",
    "    if ',' in row['From']:\n",
    "        fro = row['From'].split(',')\n",
    "        for f in fro:\n",
    "            if f.strip() == 'jeff.skilling@enron.com':\n",
    "                continue\n",
    "            if f.strip() in frequency:\n",
    "                frequency.update({f.strip():frequency.get(f.strip())+1})\n",
    "            else:\n",
    "                frequency.update({f.strip():1})\n",
    "    else:\n",
    "        if row['From'].strip() != 'jeff.skilling@enron.com':\n",
    "            if row['From'].strip() in frequency:\n",
    "                frequency.update({row['From'].strip():frequency.get(row['From'].strip())+1})\n",
    "            else:\n",
    "                frequency.update({row['From'].strip():1})\n",
    "contact_freqs = {k: v for k, v in sorted(frequency.items(), key=lambda item: item[1],reverse=True)}\n",
    "poi_list = [p for p in contact_freqs.keys() if contact_freqs.get(p) >= 100]\n",
    "df_poi = df_all_docs[(df_all_docs['To'].isin(poi_list)) | (df_all_docs['From'].isin(poi_list))]\n"
   ]
  },
  {
   "cell_type": "code",
   "execution_count": 24,
   "id": "lightweight-bracelet",
   "metadata": {},
   "outputs": [
    {
     "data": {
      "text/plain": [
       "{'sherri.sera@enron.com': 755,\n",
       " 'kenneth.lay@enron.com': 287,\n",
       " 'jskilli@enron.com': 234,\n",
       " 'markskilling@hotmail.com': 215,\n",
       " 'joannie.williamson@enron.com': 210,\n",
       " 'greg.whalley@enron.com': 204,\n",
       " 'mark.frevert@enron.com': 190,\n",
       " 'steven.kean@enron.com': 190,\n",
       " 'louise.kitchen@enron.com': 190,\n",
       " 'john.sherriff@enron.com': 178,\n",
       " 'smu-betas@yahoogroups.com': 167,\n",
       " 'mike.mcconnell@enron.com': 165,\n",
       " 'fredinvt@juno.com': 155,\n",
       " 'sally.beck@enron.com': 147,\n",
       " 'jeffrey.mcmahon@enron.com': 145,\n",
       " 'boethia@hotmail.com': 145,\n",
       " 'chuck.paul@a-closer-look.com': 144,\n",
       " 'mark.koenig@enron.com': 141,\n",
       " '40enron@enron.com': 141,\n",
       " 'kimberly.hillis@enron.com': 139,\n",
       " 'jim.fallon@enron.com': 138,\n",
       " 'tomskilljr@aol.com': 137,\n",
       " 'rick.buy@enron.com': 126,\n",
       " 'handshohl@eudoramail.com': 120,\n",
       " 'rharman@bass-associates.com': 119,\n",
       " 'craigd9561@aol.com': 119,\n",
       " 'jawallace12050@aol.com': 115,\n",
       " 'jansson@mindspring.com': 115,\n",
       " 'bensons3@airmail.net': 114,\n",
       " 'jimfulrich@aol.com': 114,\n",
       " 'judgegyro@yahoo.com': 114,\n",
       " 'azaremba@fzci.net': 114,\n",
       " 'david.delainey@enron.com': 113,\n",
       " 'mbaddour@msn.com': 113,\n",
       " 'john_grumbles@berryplastics.com': 113,\n",
       " 'christop@netcomuk.co.uk': 113,\n",
       " 'golfnbud@aol.com': 113,\n",
       " 'markpa@gateway.net': 113,\n",
       " 'akinpa@email.msn.com': 113,\n",
       " 'boardwalk@iquest.net': 112,\n",
       " 'hutchathoh@aol.com': 111,\n",
       " 'williamhjordan@mindspring.com': 111,\n",
       " 'tskilling@tribune.com': 111,\n",
       " 'leland.white@energyspectrum.com': 110,\n",
       " 'harris@wheelerads.com': 110,\n",
       " 'jay.fitzgerald@enron.com': 109,\n",
       " 'rrossell@angiodynamics.com': 109,\n",
       " 'kcason@flash.net': 109,\n",
       " 'jdent@mmcable.com': 108,\n",
       " 'tammie.schoppe@enron.com': 107,\n",
       " 'hosman@eskridge.net': 105,\n",
       " 'kstewart@ctcua.org': 104,\n",
       " 'cliff.baxter@enron.com': 103,\n",
       " 'kevin.hannon@enron.com': 102,\n",
       " 'paula.rieker@enron.com': 102,\n",
       " 'raymond.bowen@enron.com': 101,\n",
       " 'johnmiller@advlaser.com': 101,\n",
       " 'pwm1950@aol.com': 99,\n",
       " 'daniel.reck@enron.com': 94,\n",
       " 'pastorhess@hotmail.com': 93,\n",
       " 'ken.rice@enron.com': 92,\n",
       " 'george.mcclellan@enron.com': 92,\n",
       " 'froby@holmesmurphy.com': 92,\n",
       " 'richard.causey@enron.com': 90,\n",
       " 'jglass@mmind.net': 90,\n",
       " 'l..nowlan@enron.com': 90,\n",
       " 'jeffrey.shankman@enron.com': 89,\n",
       " 'hosman@flash.net': 89,\n",
       " 'ccoburn@themissionbank.com': 89,\n",
       " 'amelia.alder@enron.com': 89,\n",
       " 'bob.crane@enron.com': 88,\n",
       " 'joseph.hirl@enron.com': 88,\n",
       " 'sogborn@goiac.com': 88,\n",
       " 'andrew.fastow@enron.com': 87,\n",
       " 'wthom25746@aol.com': 87,\n",
       " 'joe.gold@enron.com': 86,\n",
       " 'thor.lien@enron.com': 85,\n",
       " 'karen.denne@enron.com': 85,\n",
       " 'jepetree@bellsouth.net': 85,\n",
       " 'tim.belden@enron.com': 84,\n",
       " 'a..shankman@enron.com': 84,\n",
       " 'richard.lewis@enron.com': 83,\n",
       " 'kenneth.thibodeaux@enron.com': 83,\n",
       " 'wgander@twa.com': 83,\n",
       " 'mark.palmer@enron.com': 82,\n",
       " 'paul.quilkey@enron.com': 82,\n",
       " 'bob.shults@enron.com': 82,\n",
       " 'leonardo.pacheco@enron.com': 82,\n",
       " 'samuraimai@aol.com': 79,\n",
       " 'hbrunette@earthlink.net': 78,\n",
       " 'bwall@copcp.com': 77,\n",
       " 'no.address@enron.com': 77,\n",
       " 'jstorthz@flash.net': 73,\n",
       " 'svarga@kudlow.com': 72,\n",
       " 'rebecca.mcdonald@enron.com': 71,\n",
       " 'ermak@gte.net': 71,\n",
       " 'john.lavorato@enron.com': 70,\n",
       " 'shackleton@worldnet.att.net': 70,\n",
       " 'mmmmisha@ix.netcom.com': 70,\n",
       " 'james.derrick@enron.com': 69,\n",
       " 'dfullert@nmh.org': 68,\n",
       " 'amita.gosalia@enron.com': 66,\n",
       " 'greg.piper@enron.com': 65,\n",
       " 'wade.cline@enron.com': 64,\n",
       " 'stanley.horton@enron.com': 64,\n",
       " 'david.leboe@enron.com': 63,\n",
       " 'audryn@mindspring.com': 61,\n",
       " 'cjones@cityofnapa.org': 61,\n",
       " 'eisenbachrl@cooley.com': 61,\n",
       " 'mshachat@aol.com': 61,\n",
       " 'pwc1@aol.com': 61,\n",
       " 'sherri.reinartz@enron.com': 61,\n",
       " 'ted.murphy@enron.com': 60,\n",
       " 'clowes@email.msn.com': 60,\n",
       " 'transwd@aol.com': 60,\n",
       " 'smackarnes@aol.com': 60,\n",
       " 'dwood@rwblaw.com': 60,\n",
       " 'daveroche@aol.com': 60,\n",
       " 'milobenn@sirius.com': 60,\n",
       " 'katekross@aol.com': 60,\n",
       " 'martin@sbu.edu': 60,\n",
       " 'sras@lycosmail.com': 60,\n",
       " 'matthew.scrimshaw@enron.com': 59,\n",
       " 'katherine.brown@enron.com': 59,\n",
       " 'jowen9653@aol.com': 59,\n",
       " 'laura.valencia@enron.com': 58,\n",
       " 'joseph.sutton@enron.com': 58,\n",
       " 'cindy.olson@enron.com': 57,\n",
       " 'bruce.garner@enron.com': 57,\n",
       " 'andy.zipper@enron.com': 57,\n",
       " 'mark.haedicke@enron.com': 56,\n",
       " 'david.cox@enron.com': 55,\n",
       " 'mark.pickering@enron.com': 55,\n",
       " 'lisa.connolly@enron.com': 55,\n",
       " 'ben.glisan@enron.com': 54,\n",
       " 'dan.leff@enron.com': 54,\n",
       " 'mark.muller@enron.com': 54,\n",
       " 'jeffrey.sherrick@enron.com': 54,\n",
       " 'paul.goddard@enron.com': 54,\n",
       " 'hazerfen@hotmail.com': 54,\n",
       " 'joguti@aol.com': 54,\n",
       " 'jeremy.blachman@enron.com': 53,\n",
       " 'dottie@kerr-solutions.com': 53,\n",
       " 'tina.spiller@enron.com': 53,\n",
       " 'robdbogey@aol.com': 52,\n",
       " 'james.hughes@enron.com': 51,\n",
       " 'rosalee.fleming@enron.com': 51,\n",
       " 'bryan.deluca@enron.com': 51,\n",
       " 'daniel.diamond@enron.com': 51,\n",
       " 'majalinda@hotmail.com': 51,\n",
       " 'dlmackler@worldnet.att.net': 51,\n",
       " 'deniz.razon@abbott.com': 51,\n",
       " 'rod.hayslett@enron.com': 50,\n",
       " 'danny.mccarty@enron.com': 50,\n",
       " 'miller@advlaser.com': 50,\n",
       " 'eric.thode@enron.com': 50,\n",
       " 'sanjay.bhatnagar@enron.com': 49,\n",
       " 'mark.metts@enron.com': 49,\n",
       " 'kevin.mcgowan@enron.com': 49,\n",
       " 'chris.abel@enron.com': 49,\n",
       " 'cassandra.schultz@enron.com': 49,\n",
       " 'jeff.harbert@enron.com': 48,\n",
       " 'greg.hermans@enron.com': 48,\n",
       " 'r..brackett@enron.com': 48,\n",
       " 'john.allison@enron.com': 48,\n",
       " 'bjorn.hagelmann@enron.com': 48,\n",
       " 'frank.hayden@enron.com': 48,\n",
       " 'cp253w16@aol.com': 48,\n",
       " 'oldenlaw@sirius.com': 48,\n",
       " 'clowes@cmithlaw.com': 48,\n",
       " 'lou.pai@enron.com': 47,\n",
       " 'vance.meyer@enron.com': 47,\n",
       " 'meredith.philipp@enron.com': 47,\n",
       " 'stephanie.segura@enron.com': 47,\n",
       " 'philippe.bibi@enron.com': 46,\n",
       " 'david.forster@enron.com': 46,\n",
       " 'suresh.raghavan@enron.com': 46,\n",
       " 'tara.sweitzer@enron.com': 46,\n",
       " 'fraisy.george@enron.com': 46,\n",
       " 'michael.brown@enron.com': 45,\n",
       " 'john.nowlan@enron.com': 45,\n",
       " 'janet.dietrich@enron.com': 45,\n",
       " 'sunil.abraham@enron.com': 45,\n",
       " 'michael.bridges@enron.com': 45,\n",
       " 'lydia.cannon@enron.com': 45,\n",
       " 'john.cummings@enron.com': 45,\n",
       " 'jennifer.denny@enron.com': 45,\n",
       " 'marc.eichmann@enron.com': 45,\n",
       " 'torrey.moorer@enron.com': 45,\n",
       " 'savita.puthigai@enron.com': 45,\n",
       " 'jennifer.rosado@enron.com': 45,\n",
       " 'justin.rostant@enron.com': 45,\n",
       " 'kal.shah@enron.com': 45,\n",
       " 'sheri.thomas@enron.com': 45,\n",
       " 'tim.jones@enron.com': 44,\n",
       " 's..bradford@enron.com': 44,\n",
       " 'david.port@enron.com': 44,\n",
       " 'stephanie.strong@enron.com': 42,\n",
       " 'gbsmith@smith-graham.com': 42,\n",
       " 'beth.apollo@enron.com': 42,\n",
       " 'c..gossett@enron.com': 42,\n",
       " 'm.hall@enron.com': 42,\n",
       " 'todd.hall@enron.com': 42,\n",
       " 'william.kelly@enron.com': 42,\n",
       " 'john.swinney@enron.com': 42,\n",
       " 'cassi.wallace@enron.com': 42,\n",
       " 'all.worldwide@enron.com': 41,\n",
       " 'enron.announcements@enron.com': 41,\n",
       " 'marty.sunde@enron.com': 41,\n",
       " 'rahil.jafry@enron.com': 41,\n",
       " 'etblaw@aol.com': 41,\n",
       " 'rcampos@eldoradocorp.com': 41,\n",
       " 'shirley.h.tapscott@uth.tmc.edu': 41,\n",
       " 'adam.johnson@enron.com': 40,\n",
       " 'john.allario@enron.com': 40,\n",
       " 'khuber@hcmwealth.com': 40,\n",
       " 'matt.motsinger@enron.com': 39,\n",
       " 'brad.richter@enron.com': 39,\n",
       " 'ksbiehl@hotmail.com': 39,\n",
       " 'ak1992@yahoo.com': 39,\n",
       " 'jalibow@yahoo.com': 39,\n",
       " 'mlangermann@2onesource.com': 39,\n",
       " 'dawn.mcdonald@enron.com': 38,\n",
       " 'e..haedicke@enron.com': 38,\n",
       " 'jana.paxton@enron.com': 37,\n",
       " 'douglas.friedman@enron.com': 37,\n",
       " 'dave.samuels@enron.com': 37,\n",
       " 'billy.dorsey@enron.com': 37,\n",
       " 'eharris@insightpartners.com': 37,\n",
       " 'mike.jordan@enron.com': 36,\n",
       " 'michael.kass@enron.com': 36,\n",
       " 'james.new@enron.com': 36,\n",
       " 'samjstokes@aol.com': 36,\n",
       " 'david.haug@enron.com': 35,\n",
       " 'london.brown@enron.com': 35,\n",
       " 'm..taylor@enron.com': 35,\n",
       " 'kskilling@ehshouston.org': 35,\n",
       " 'james.bannantine@enron.com': 34,\n",
       " 'david.morris@lehman.com': 34,\n",
       " 'steve.elliott@enron.com': 33,\n",
       " 'william.bradford@enron.com': 33,\n",
       " 'mwf15@columbia.edu': 33,\n",
       " 'dorothy.dalton@enron.com': 32,\n",
       " 'liz.taylor@enron.com': 32,\n",
       " 'jdent@express-news.net': 32,\n",
       " 'cindy.stark@enron.com': 31,\n",
       " 'smu-betas@egroups.com': 31,\n",
       " 'larry.izzo@enron.com': 30,\n",
       " 'maureen.mcvicker@enron.com': 30,\n",
       " 'nkelley@tqcap.com': 30,\n",
       " 'j..kean@enron.com': 30,\n",
       " 'candc@ix.netcom.com': 30,\n",
       " 'candace@evite.com': 30,\n",
       " 'kcompton@kpcb.com': 30,\n",
       " 'diomedes.christodoulou@enron.com': 29,\n",
       " 'thomas.white@enron.com': 29,\n",
       " 'loretta.brelsford@enron.com': 29,\n",
       " 'stanmarek@marekbros.com': 29,\n",
       " 'lindsay.renaud@enron.com': 29,\n",
       " 'pmurphy@swbanktx.com': 28,\n",
       " 'legal <.taylor@enron.com>': 28,\n",
       " 'simone.la@enron.com': 28,\n",
       " 'nick.mooney@enron.com': 28,\n",
       " 'jordan.larimore@lehman.com': 27,\n",
       " 'doyna@excite.com': 27,\n",
       " 'martinawf@earthlink.net': 27,\n",
       " 'mrudula.gadade@enron.com': 26,\n",
       " 'office.chairman@enron.com': 26,\n",
       " 'galtney@galtney.com': 26,\n",
       " 'kevin.garland@enron.com': 26,\n",
       " 'carlos.alatorre@enron.com': 26,\n",
       " 'jay.webb@enron.com': 26,\n",
       " 'greg.carlson@enron.com': 26,\n",
       " 'laura.levy@enron.com': 26,\n",
       " 's..palmer@enron.com': 26,\n",
       " 'sharron.westbrook@enron.com': 25,\n",
       " 'administrator@houstontech.org': 25,\n",
       " 'mdlr15@aol.com': 25,\n",
       " 'wgander@email.twa.com': 25,\n",
       " 'craig.weichmann@morgankeegan.com': 25,\n",
       " 'wmpat50@aol.com': 25,\n",
       " 'bjordan@intertrust.com': 25,\n",
       " 'shona.wilson@enron.com': 25,\n",
       " 'loretta.brooks@enron.com': 25,\n",
       " 'cathy.phillips@enron.com': 24,\n",
       " 'dolores.fisher@enron.com': 24,\n",
       " 'marsha.schiller@enron.com': 24,\n",
       " 'billy.lemmons@enron.com': 24,\n",
       " 'michaelm@morgangroup.com': 24,\n",
       " 'jeff.donahue@enron.com': 24,\n",
       " 'charlene.jackson@enron.com': 24,\n",
       " 'knethercutt@houstontech.org': 24,\n",
       " 'larimore@enron.com': 24,\n",
       " 'enw <.palmer@enron.com>': 24,\n",
       " 'adbaby@aol.com': 24,\n",
       " 'linda@cyrilandcrowley.com': 24,\n",
       " 'lja49@gateway.net': 24,\n",
       " 'flysoft@worldnet.att.net': 24,\n",
       " 'bridget.maronge@enron.com': 23,\n",
       " 'inez.dauterive@enron.com': 23,\n",
       " 'suzanne.danz@enron.com': 23,\n",
       " 'michael.kopper@enron.com': 23,\n",
       " 'kevinscott@onlinemailbox.net': 23,\n",
       " 'hal.mckinney@enron.com': 23,\n",
       " 'a..price@enron.com': 23,\n",
       " 'araceli.romero@enron.com': 23,\n",
       " 'harold.buchanan@enron.com': 22,\n",
       " 'nicki.daw@enron.com': 22,\n",
       " 'tori.wells@enron.com': 22,\n",
       " 'peggy.mccurley@enron.com': 22,\n",
       " 'connie.blackwood@enron.com': 22,\n",
       " 'cedric.burgher@enron.com': 22,\n",
       " 'sean.long@enron.com': 22,\n",
       " 'mduffey@carriageservices.com': 22,\n",
       " 'rex.shelby@enron.com': 22,\n",
       " 'amadariaga@bankinter.es': 22,\n",
       " 'amsaez@bankinter.es': 22,\n",
       " 'aleon@bankinter.es': 22,\n",
       " 'bkrv@bankinter.es': 22,\n",
       " 'buriartev@bankinter.es': 22,\n",
       " 'cencinas@bankinter.es': 22,\n",
       " 'clastrag@bankinter.es': 22,\n",
       " 'eaguado@bankinter.es': 22,\n",
       " 'egciahi@bankinter.es': 22,\n",
       " 'eurquijo@bankinter.es': 22,\n",
       " 'falfaro@bankinter.es': 22,\n",
       " 'fjrivero@bankinter.es': 22,\n",
       " 'fra@bankinter.es': 22,\n",
       " 'gblanc@bankinter.es': 22,\n",
       " 'jbcollado@bankinter.es': 22,\n",
       " 'jbollain@bankinter.es': 22,\n",
       " 'jflopez@bankinter.es': 22,\n",
       " 'jperalgu@bankinter.es': 22,\n",
       " 'jrivas@bankinter.es': 22,\n",
       " 'llazaro@bankinter.es': 22,\n",
       " 'mjnez@bankinter.es': 22,\n",
       " 'mjvilla@bankinter.es': 22,\n",
       " 'mlalonso@bankinter.es': 22,\n",
       " 'mmverdu@bankinter.es': 22,\n",
       " 'pdiego@bankinter.es': 22,\n",
       " 'pmmtnezs@bankinter.es': 22,\n",
       " 'stapia@bankinter.es': 22,\n",
       " 'zhtowbin@bankinter.es': 22,\n",
       " 'btowbin@unterberg.com': 22,\n",
       " 'joe.hirko@enron.com': 22,\n",
       " 'kathy.mcmahon@enron.com': 21,\n",
       " 'christina.grow@enron.com': 21,\n",
       " 'rob.walls@enron.com': 21,\n",
       " 'bill.grumbles@turner.com': 21,\n",
       " 'mark.hillstrom@morgankeegan.com': 21,\n",
       " 'a..hughes@enron.com': 21,\n",
       " 'david.baumbach@enron.com': 21,\n",
       " 'errol.mclaughlin@enron.com': 21,\n",
       " 'fly_soft@classic.msm.com': 21,\n",
       " 'sue.ford@enron.com': 20,\n",
       " 'karen.owens@enron.com': 20,\n",
       " 'lauren.urquhart@enron.com': 20,\n",
       " 'pwhobby@hobbycomm.com': 20,\n",
       " 'mark.taylor@enron.com': 20,\n",
       " 'kelly.heuertz@enron.com': 20,\n",
       " 'michael_arends@putnaminv.com': 20,\n",
       " 'crrackups@aol.com': 20,\n",
       " 'lucy.marshall@enron.com': 19,\n",
       " 'smarnoy@ophouston.com': 19,\n",
       " 'billymont@aol.com': 19,\n",
       " 'dougs@senterracorp.com': 19,\n",
       " 'rnstnhgn@earthlink.net': 19,\n",
       " 'bill.haack@haack.com': 19,\n",
       " 'all.houston@enron.com': 19,\n",
       " 'des883781@aol.com': 19,\n",
       " 'kay.chapman@enron.com': 18,\n",
       " 'jennifer.burns@enron.com': 18,\n",
       " 'sharon.dick@enron.com': 18,\n",
       " 'kathy.campos@enron.com': 18,\n",
       " 'julie.armstrong@enron.com': 18,\n",
       " 'alhamd.alkhayat@enron.com': 18,\n",
       " 'keith@gammaconst.com': 18,\n",
       " 'c.combs@intershop.com': 18,\n",
       " 'm_larnold@sprynet.com': 18,\n",
       " 'mark.langermann@issna.com': 18,\n",
       " 'kwaize@hotmail.com': 18,\n",
       " 'wayne.thompson@chase.com': 18,\n",
       " 'susan.skarness@enron.com': 17,\n",
       " 'stacy.guidroz@enron.com': 17,\n",
       " 'kerry.ferrari@enron.com': 17,\n",
       " 'carol.moffett@enron.com': 17,\n",
       " 'jennifer.adams@enron.com': 17,\n",
       " 'jeff_skilling@enron.com': 17,\n",
       " 'gene.humphrey@enron.com': 17,\n",
       " 'steve.jernigan@enron.com': 17,\n",
       " 'sally.keepers@enron.com': 17,\n",
       " 'outlook.team@enron.com': 17,\n",
       " 'adeleon@lionforce.com': 17,\n",
       " 'mholthouse@holthouseinterests.com': 17,\n",
       " 'tsimmons@spencerstuart.com': 17,\n",
       " 'wes.colwell@enron.com': 17,\n",
       " 'brian.redmond@enron.com': 17,\n",
       " 'adarsh.vakharia@enron.com': 17,\n",
       " 'fparra@swbanktx.com': 17,\n",
       " 'yorleni.mendez@enron.com': 17,\n",
       " 'a..bibi@enron.com': 17,\n",
       " 'rebecca.carter@enron.com': 17,\n",
       " 'johnt@austinventures.com': 17,\n",
       " 'dorothy.burrell@enron.com': 16,\n",
       " 'carol.howes@enron.com': 16,\n",
       " 'eduardo.robles@enron.com': 16,\n",
       " 'kari.duncan@enron.com': 16,\n",
       " 'veronica.perez@enron.com': 16,\n",
       " 'wendi.hoelscher@enron.com': 16,\n",
       " 'blanton@swbell.net': 16,\n",
       " 'abreco@ix.netcom.com': 16,\n",
       " 'jhildebrand@hilcorp.com': 16,\n",
       " 'garys@sss-steel.com': 16,\n",
       " 'pwareing@aol.com': 16,\n",
       " 'elvisthompson@aol.com': 16,\n",
       " 'marla.barnard@enron.com': 16,\n",
       " 's..shively@enron.com': 16,\n",
       " 'christie.patrick@enron.com': 16,\n",
       " 'stewart.seeligson@enron.com': 15,\n",
       " 'neil.mcgregor@enron.com': 15,\n",
       " 'jackd@dmcmgmt.com': 15,\n",
       " 'sfordham@netversant.com': 15,\n",
       " 'blake@hoganinvestment.com': 15,\n",
       " 'jlynch@sleh.com': 15,\n",
       " 'waltm@wheatstoneinvestments.com': 15,\n",
       " 'rmosbacher@compuserve.com': 15,\n",
       " 'bruce.rudy@enron.com': 15,\n",
       " 'jean.mrha@enron.com': 15,\n",
       " 'gary.hickerson@enron.com': 15,\n",
       " 'gdubin@houstontech.org': 15,\n",
       " 'daniel.castagnola@enron.com': 15,\n",
       " 'anne.bike@enron.com': 15,\n",
       " 'kam.keiser@enron.com': 15,\n",
       " 'm..love@enron.com': 15,\n",
       " 'd..winfree@enron.com': 15,\n",
       " 'mike_buttrey@mhbt.com': 15,\n",
       " 'jnwbstr@aol.com': 15,\n",
       " 'carol.brown@enron.com': 14,\n",
       " 'leah.rijo@enron.com': 14,\n",
       " 'elena.chilkina@enron.com': 14,\n",
       " 'bridget.fraser@enron.com': 14,\n",
       " 'dalexander@weingarten.com': 14,\n",
       " 'tbrock@brockgroup.com': 14,\n",
       " 'sbunting@mccoyinc.com': 14,\n",
       " 'jcrane@eagleusa.com': 14,\n",
       " 'larry.delpapa@delpapabud.com': 14,\n",
       " 'george@demontrond.com': 14,\n",
       " 'jduncan@chartertitle.com': 14,\n",
       " 'bfaith@greystar.com': 14,\n",
       " 'jim.flores@oceanenergy.com': 14,\n",
       " 'jgraf@valic.com': 14,\n",
       " 'mekuebler@aol.com': 14,\n",
       " 'fmcguyer@mhinc.com': 14,\n",
       " 'cmnjr@tex-trude.com': 14,\n",
       " 'jim.noteware@kaiseral.com': 14,\n",
       " 'apetrello@nabors.com': 14,\n",
       " 'kwhalen@mccallgroup.com': 14,\n",
       " 'perfmgmt@enron.com': 14,\n",
       " 'richard.lydecker@enron.com': 14,\n",
       " 'jennifer.fraser@enron.com': 14,\n",
       " 'postypo@ypo.org': 14,\n",
       " 'jennifer.oliver@enron.com': 14,\n",
       " 'angela.connelly@enron.com': 14,\n",
       " 'richard.shapiro@enron.com': 14,\n",
       " 'carrie.southard@enron.com': 14,\n",
       " 'kathryn.corbally@enron.com': 13,\n",
       " 'brian.becker@sfx.com': 13,\n",
       " 'rayc@pointecom.net': 13,\n",
       " 'kkurtzman@ashford.com': 13,\n",
       " 'craigeward@aol.com': 13,\n",
       " 'david.gorte@enron.com': 13,\n",
       " 'david.maxwell@enron.com': 13,\n",
       " 'stan.horton@enron.com': 13,\n",
       " 'craigl@hypercon.com': 13,\n",
       " 'wvlarkin@travisintl.com': 13,\n",
       " 'dlong@houstontech.org': 13,\n",
       " 'ina.rangel@enron.com': 13,\n",
       " 'ed.mcmichael@enron.com': 13,\n",
       " 'karen.heathman@enron.com': 12,\n",
       " 'stephanie.harris@enron.com': 12,\n",
       " 'vanessa.groscrand@enron.com': 12,\n",
       " 'judy.smith@enron.com': 12,\n",
       " 'clement@netactive.co.za': 12,\n",
       " 'john.ambler@enron.com': 12,\n",
       " 'rex.rogers@enron.com': 12,\n",
       " 'alan.mcgaughy@enron.com': 12,\n",
       " 'james.posway@enron.com': 12,\n",
       " 'maritta.mullet@enron.com': 12,\n",
       " 'michael.mitcham@enron.com': 12,\n",
       " 'tara.soyal@enron.com': 12,\n",
       " 'adrian.ausucua@enron.com': 12,\n",
       " 'brian.zatarain@enron.com': 12,\n",
       " 'denise.almoina@enron.com': 12,\n",
       " 'denka.wangdi@enron.com': 12,\n",
       " 'elio.tortolero@enron.com': 12,\n",
       " 'felicia.legier@enron.com': 12,\n",
       " 'felipe.ospina@enron.com': 12,\n",
       " 'frances.reese@enron.com': 12,\n",
       " 'joy.oliver@enron.com': 12,\n",
       " 'keith.sparks@enron.com': 12,\n",
       " 'lisa.alderman@enron.com': 12,\n",
       " 'rudolf.bond@enron.com': 12,\n",
       " 'steve.hirsh@enron.com': 12,\n",
       " 'timothy.rebhorn@enron.com': 12,\n",
       " 'veronica.medrano@enron.com': 12,\n",
       " 'yen.nguyen@enron.com': 12,\n",
       " 'earl.hailey@enron.com': 12,\n",
       " 'lena.lacey@enron.com': 12,\n",
       " 'lesliedoggett@hotmail.com': 12,\n",
       " 'phawk@teamindustrialservices.com': 12,\n",
       " 'msmith@mikesmithdirect.com': 12,\n",
       " 'astein3183@aol.com': 12,\n",
       " 'swwrceo@aol.com': 12,\n",
       " 'gailg@morgangroup.com': 12,\n",
       " 'lisa.gillette@enron.com': 12,\n",
       " 'ann.brown@enron.com': 12,\n",
       " 'binky.davidson@enron.com': 12,\n",
       " 'rebekah.rushing@enron.com': 12,\n",
       " 'don.black@enron.com': 12,\n",
       " 'energynews@fc.ease.lsoft.com': 12,\n",
       " 'kelly.johnson@enron.com': 12,\n",
       " 'bob.ambrocik@enron.com': 12,\n",
       " 'doyna@coffeenet.com': 12,\n",
       " 'arthur.edwards@apollogrp.edu': 12,\n",
       " 'scott.yeager@enron.com': 12,\n",
       " 'roberto.sanchez@bankofamerica.com': 12,\n",
       " 'bjmackaysmith@hotmail.com': 12,\n",
       " 'eclowes@cmithlaw.com': 12,\n",
       " 'ken_rice@enron.com': 11,\n",
       " 'rosane.fabozzi@enron.com': 11,\n",
       " 'elaine.rodriguez@enron.com': 11,\n",
       " 'mary.garza@enron.com': 11,\n",
       " 'mercedes.estrada@enron.com': 11,\n",
       " 'kathy.dodgen@enron.com': 11,\n",
       " 'gmarmol@gmarmol.com': 11,\n",
       " 'bill.gathmann@enron.com': 11,\n",
       " 'alex@brennanshouston.com': 11,\n",
       " 'vickig@ix.netcom.com': 11,\n",
       " 'wgolinkin@norwoodaustin.com': 11,\n",
       " 'plank@speedshore.com': 11,\n",
       " 'dweekley@dwhomes.com': 11,\n",
       " 'terrie.james@enron.com': 11,\n",
       " \"l'sheryl.hudson@enron.com\": 11,\n",
       " 'monica.reasoner@enron.com': 11,\n",
       " 'hope.vargas@enron.com': 11,\n",
       " 'maria.lebeau@enron.com': 11,\n",
       " 'lea.savala@enron.com': 11,\n",
       " 'ecockrel@cockrell.com': 11,\n",
       " 'gwilson@wilsonfg.com': 11,\n",
       " 'jknox@suretec.com': 11,\n",
       " 'moezm@whg.com': 11,\n",
       " 'texastbell@aol.com': 11,\n",
       " 'mkhourie@trammellcrow.com': 11,\n",
       " 'joseph.deffner@enron.com': 11,\n",
       " 'andrew.miles@enron.com': 11,\n",
       " 'barry.tycholiz@enron.com': 11,\n",
       " 'doug.leach@enron.com': 11,\n",
       " 'chuck.paul@wiseshops.com': 11,\n",
       " 'lrivera@endesa.es': 10,\n",
       " 'beverly.aden@enron.com': 10,\n",
       " 'bruce.lundstrom@enron.com': 10,\n",
       " 'mohan.gurunath@enron.com': 10,\n",
       " 'paul.kraske@enron.com': 10,\n",
       " 'sandeep.katwala@enron.com': 10,\n",
       " 't.ravishanker@enron.com': 10,\n",
       " 'jimmy.mogal@enron.com': 10,\n",
       " 'daronoff@greylock.com': 10,\n",
       " 'brian.swinford@enron.com': 10,\n",
       " 'alan.jones@enron.com': 10,\n",
       " 'gbrenn@coair.com': 10,\n",
       " 'rfant@nps.cc': 10,\n",
       " 'rfleishman@grupotampico.com.mx': 10,\n",
       " 'fosheed@nuevoenergy.com': 10,\n",
       " 'larry_heard@transwestern.net': 10,\n",
       " 'jpkotts@jpkotts.com': 10,\n",
       " 'jwlander@worldnet.att.net': 10,\n",
       " 'flummis@summit-cap.com': 10,\n",
       " 'scott.j.mclean@chase.com': 10,\n",
       " 'pregan@ermsw.com': 10,\n",
       " 'taylor@taylorwilson.com': 10,\n",
       " 'kristina.mordaunt@enron.com': 10,\n",
       " 'kevin.communications@enron.com': 10,\n",
       " 'ken.communications@enron.com': 10,\n",
       " 'gordon.mckillop@enron.com': 10,\n",
       " 'vidal@martinez.net': 10,\n",
       " 'skaufman@comkauf.com': 10,\n",
       " 'robert_duncan@transwestern.net': 10,\n",
       " 'rro@onsteadinvest.com': 10,\n",
       " 'leewhogan@hotmail.com': 10,\n",
       " 'jhduncan@aol.com': 10,\n",
       " 'georgejr@ix.netcom.com': 10,\n",
       " 'gpowell@houston.rr.com': 10,\n",
       " 'jeff_hines@hines.com': 10,\n",
       " 'john.godbold@enron.com': 10,\n",
       " 'bruce.smith@enron.com': 10,\n",
       " 'vince.kaminski@enron.com': 10,\n",
       " 'stuart.staley@enron.com': 10,\n",
       " 'cindy.hudler@enron.com': 10,\n",
       " 'rick.bergsieker@enron.com': 10,\n",
       " 'dchristo2@attglobal.net': 10,\n",
       " 'petroleumworldreaders@hotmail.com': 10,\n",
       " 'petroleumworldnews11@hotmail.com': 10,\n",
       " 'k..allen@enron.com': 10,\n",
       " 'elizabeth.tilney@enron.com': 10,\n",
       " 'john@pgsenergy.com': 10,\n",
       " 'joe.kishkill@enron.com': 10,\n",
       " 'david.patton@enron.com': 10,\n",
       " 'david.berberian@enron.com': 10,\n",
       " 'cora.pendergrass@enron.com': 10,\n",
       " 'darren.espey@enron.com': 10,\n",
       " 'daniel.lisk@enron.com': 10,\n",
       " 'flavia.negrete@enron.com': 10,\n",
       " 'harry.arora@enron.com': 10,\n",
       " 'hillary.mack@enron.com': 10,\n",
       " 'gloria.solis@enron.com': 10,\n",
       " 'jana.morse@enron.com': 10,\n",
       " 'candace@insymmetry.com': 10,\n",
       " 'gzophy@yahoo.com': 10,\n",
       " 'mlangermann@ableserve.com': 10,\n",
       " 'brian.bradford@enron.com': 10,\n",
       " 'pengel@eaglenet.com': 10,\n",
       " 'gkoutani@aol.com': 10,\n",
       " 'marcia.manarin@enron.com': 9,\n",
       " 'beena.pradhan@enron.com': 9,\n",
       " 'molly.bobrow@enron.com': 9,\n",
       " 'fiona.stewart@enron.com': 9,\n",
       " 'kathryn.greer@enron.com': 9,\n",
       " 'brenda.castillo@enron.com': 9,\n",
       " 'michael.r.brown@enron.com': 9,\n",
       " 'allan.sommer@enron.com': 9,\n",
       " 'james.prentice@enron.com': 9,\n",
       " 'houston_members@ypo.org': 9,\n",
       " 'dmusslewhite@sterlingmccalltoyota.com': 9,\n",
       " 'mark.adleman@enron.com': 9,\n",
       " 'bhowell@howelltrans.com': 9,\n",
       " 'amie.ha@enron.com': 9,\n",
       " 'klay@enron.com': 9,\n",
       " 'jskilli@ei.enron.com': 9,\n",
       " 'charla.reese@enron.com': 9,\n",
       " 'chris.germany@enron.com': 9,\n",
       " 'greg.martin@enron.com': 9,\n",
       " 'suzanne.nicholie@enron.com': 9,\n",
       " 'beth@wrmoffice.com': 9,\n",
       " 'ghcf@ghcf.org': 9,\n",
       " 'elyse.kalmans@enron.com': 9,\n",
       " 'laura.schwartz@enron.com': 9,\n",
       " 'karen.moore@enron.com': 9,\n",
       " 'dsolomon@redstonecompanies.com': 9,\n",
       " 'shalesh.ganjoo@enron.com': 9,\n",
       " 'darren.delage@enron.com': 9,\n",
       " 'ellen.su@enron.com': 9,\n",
       " 'jurgen.hess@enron.com': 9,\n",
       " 'eric.boyt@enron.com': 9,\n",
       " 'aaron.armstrong@enron.com': 9,\n",
       " 'lmoore@houstontech.org': 9,\n",
       " 'ronniem@morgangroup.com': 9,\n",
       " 'mbkuntz@aol.com': 9,\n",
       " 'bob.butts@enron.com': 9,\n",
       " 'j.harris@enron.com': 9,\n",
       " 'linda.hawkins@enron.com': 9,\n",
       " 'l..wells@enron.com': 9,\n",
       " 'vicki.sharp@enron.com': 9,\n",
       " 'christa.winfrey@enron.com': 9,\n",
       " 'scott.vonderheide@enron.com': 9,\n",
       " 'david.crews@enron.com': 9,\n",
       " '_corolla@response.etracks.com': 9,\n",
       " 'amanda.martin@enron.com': 9,\n",
       " 'erik.simpson@enron.com': 9,\n",
       " 'hilda.lindley@enron.com': 9,\n",
       " 'white.william@enron.com': 9,\n",
       " 'jr.paul@enron.com': 9,\n",
       " 'kelly.michael@enron.com': 9,\n",
       " 'jr..harry@enron.com': 9,\n",
       " 'savage.frank@enron.com': 9,\n",
       " 'pipkin.daina@enron.com': 9,\n",
       " 'blackman.clark@enron.com': 9,\n",
       " 'bpaddock@ghcf.org': 9,\n",
       " 'samuel.pak@enron.com': 9,\n",
       " 'meyerjames@hotmail.com': 9,\n",
       " 'pam.benson@enron.com': 9,\n",
       " 'darnoff@greylock.com': 9,\n",
       " 'meyerjames@usa.net': 9,\n",
       " 'jks1205@aol.com': 9,\n",
       " 'devika_333@hotmail.com': 9,\n",
       " 'sagirli@hotmail.com': 9,\n",
       " 'lda@hassard.com': 9,\n",
       " 'doeringsue@yahoo.com': 9,\n",
       " 'jreriks@aol.com': 9,\n",
       " 'microhand@yahoo.com': 9,\n",
       " 'aedwards@nextera-pcg.com': 9,\n",
       " 'annb@redstonegrp.com': 9,\n",
       " 'sgiridha@prismintl.com': 8,\n",
       " 'jose.marquez@enron.com': 8,\n",
       " 'kevin.moore@enron.com': 8,\n",
       " 'mike.roberts@enron.com': 8,\n",
       " 'tony.hamilton@enron.com': 8,\n",
       " 'william.smith@enron.com': 8,\n",
       " 'bob.brandt@enron.com': 8,\n",
       " 'charles.upshaw@enron.com': 8,\n",
       " 'harvey.mitchell@enron.com': 8,\n",
       " 'henry.terech@enron.com': 8,\n",
       " 'james.thomas@enron.com': 8,\n",
       " 'ken.byrd@enron.com': 8,\n",
       " 'randy.gray@enron.com': 8,\n",
       " 'rusty.gourley@enron.com': 8,\n",
       " 'stan.jablonski@enron.com': 8,\n",
       " 'maria.romero@enron.com': 8,\n",
       " 'mariella.mahan@enron.com': 8,\n",
       " 'alvin.thompson@enron.com': 8,\n",
       " 'cynthia.franklin@enron.com': 8,\n",
       " 'jesse.villarreal@enron.com': 8,\n",
       " 'joann.collins@enron.com': 8,\n",
       " 'joe.casas@enron.com': 8,\n",
       " 'lia.halstead@enron.com': 8,\n",
       " 'meredith.homco@enron.com': 8,\n",
       " 'robert.allwein@enron.com': 8,\n",
       " 'scott.loving@enron.com': 8,\n",
       " 'steve.gillespie@enron.com': 8,\n",
       " 'tamara.carter@enron.com': 8,\n",
       " 'tracy.wood@enron.com': 8,\n",
       " 'nikita.ford@enron.com': 8,\n",
       " 'amy.villasenor@enron.com': 8,\n",
       " 'debra.young@enron.com': 8,\n",
       " 'jeff.arnold@enron.com': 8,\n",
       " 'john.reese@enron.com': 8,\n",
       " 'josh.mayes@enron.com': 8,\n",
       " 'larry.fenstad@enron.com': 8,\n",
       " 'mary.johnson@enron.com': 8,\n",
       " 'mary.dix@enron.com': 8,\n",
       " 'mike.thomas@enron.com': 8,\n",
       " 'morris.brassfield@enron.com': 8,\n",
       " 'rinetia.turner@enron.com': 8,\n",
       " 'robert.geheb@enron.com': 8,\n",
       " 'tyrone.brown@enron.com': 8,\n",
       " 'john.haggerty@enron.com': 8,\n",
       " 'murdoch.morrison@enron.com': 8,\n",
       " 'marwan@nestgroup.com': 8,\n",
       " 'kgenssler@aol.com': 8,\n",
       " 'dgochman@academy.com': 8,\n",
       " 'siera1@swbell.net': 8,\n",
       " 'mawallac@texaschildrenshospital.org': 8,\n",
       " 'msheehan@adventis.com': 8,\n",
       " 'andy.rodriquez@enron.com': 8,\n",
       " 'stephen.wolfe@enron.com': 8,\n",
       " 'andrea.reed@enron.com': 8,\n",
       " 'marnie.lamb@enron.com': 8,\n",
       " 'jill.erwin@enron.com': 8,\n",
       " 'vasant.shanbhogue@enron.com': 8,\n",
       " 'simone.rose@enron.com': 8,\n",
       " 'andrews@boxerproperty.com': 8,\n",
       " 'bruceh@ceconet.com': 8,\n",
       " 'mark.ruane@enron.com': 8,\n",
       " 'eva.tow@enron.com': 8,\n",
       " 'pfrison@houstontech.org': 8,\n",
       " 'curly.baca@enron.com': 8,\n",
       " 'bhogan01@sprynet.com': 8,\n",
       " 'greg.caudell@enron.com': 8,\n",
       " 'jim.newgard@enron.com': 8,\n",
       " 'j.kaminski@enron.com': 8,\n",
       " 'lara.mckinney@enron.com': 8,\n",
       " 'elizabeth.ivers@enron.com': 8,\n",
       " 'vanessa.bob@enron.com': 8,\n",
       " 'vivianna.bolen@enron.com': 8,\n",
       " 'k..heathman@enron.com': 8,\n",
       " 'esmeralda.hinojosa@enron.com': 8,\n",
       " 'julia.murray@enron.com': 8,\n",
       " 'l..paxton@enron.com': 8,\n",
       " 'leesa.white@enron.com': 8,\n",
       " 'horace.snyder@enron.com': 8,\n",
       " 'james.steffes@enron.com': 8,\n",
       " 'v..reed@enron.com': 8,\n",
       " 'patricia.shannon@enron.com': 8,\n",
       " 'patrick.hickey@enron.com': 8,\n",
       " 'ebiz@enron.com': 8,\n",
       " 'bruno@firstconf.com': 8,\n",
       " 'john.arnold@enron.com': 8,\n",
       " 'craig_shackleton@amat.com': 8,\n",
       " 'anthony.sexton@enron.com': 8,\n",
       " 'anteneh.shimelis@enron.com': 8,\n",
       " 'brad.snyder@enron.com': 8,\n",
       " 'carrie.slagle@enron.com': 8,\n",
       " 'colleen.sullivan@enron.com': 8,\n",
       " 'eric.letke@enron.com': 8,\n",
       " 'edward.sacks@enron.com': 8,\n",
       " 'darla.saucier@enron.com': 8,\n",
       " 'doug.sewell@enron.com': 8,\n",
       " 'dana.smith@enron.com': 8,\n",
       " 'eric.scott@enron.com': 8,\n",
       " 'emilio.vicens@enron.com': 8,\n",
       " 'humberto.cubillos-uejbe@enron.com': 8,\n",
       " 'george.simpson@enron.com': 8,\n",
       " 'julie.cobb@enron.com': 8,\n",
       " 'isabel.romero@enron.com': 8,\n",
       " 'yvette.pinero@enron.com': 8,\n",
       " 'isc.hotline@enron.com': 8,\n",
       " 'expense.report@enron.com': 8,\n",
       " 'gwhipple@us.ibm.com': 8,\n",
       " 'g.garcia@enron.com': 7,\n",
       " 'steven.bailey@enron.com': 7,\n",
       " 'mark.schroeder@enron.com': 7,\n",
       " 'bert.frazier@enron.com': 7,\n",
       " 'p.mohanram@enron.com': 7,\n",
       " 'richard.leibert@enron.com': 7,\n",
       " 'davids@redstonegrp.com': 7,\n",
       " 'actbars@aol.com': 7,\n",
       " 'bernadette.santillan@redherring.com': 7,\n",
       " 'mkoenig@enron.com': 7,\n",
       " 'edward.ondarza@enron.com': 7,\n",
       " 'dandonaldson@att.net': 7,\n",
       " 'ron.baker@enron.com': 7,\n",
       " 'jennifer.riley@enron.com': 7,\n",
       " 'peggy.mahoney@enron.com': 7,\n",
       " 'jordan.mintz@enron.com': 7,\n",
       " 'wilson.kriegel@enron.com': 7,\n",
       " 'arthurtei@cooperrig.com': 7,\n",
       " 'doubleoranch@aol.com': 7,\n",
       " 'rpmark5@hotmail.com': 7,\n",
       " 'ds@cogentco.com': 7,\n",
       " 'jeff.nogid@enron.com': 7,\n",
       " 'brian.steinbrueck@enron.com': 7,\n",
       " 'enron_update@concureworkplace.com': 7,\n",
       " 'gail.kettenbrink@enron.com': 7,\n",
       " 'kenneth_b._mehlman@who.eop.gov': 7,\n",
       " 'david.oxley@enron.com': 7,\n",
       " 'megan.angelos@enron.com': 7,\n",
       " 'airam.arteaga@enron.com': 7,\n",
       " 'jo.kelsey@enron.com': 7,\n",
       " 'gary.smith@enron.com': 7,\n",
       " 'bill.cordes@enron.com': 7,\n",
       " 'pulaski.eric@enron.com': 7,\n",
       " 'amin.maredia@enron.com': 7,\n",
       " 'mary.clark@enron.com': 7,\n",
       " 'elsa.piekielniak@enron.com': 7,\n",
       " 'c..aucoin@enron.com': 7,\n",
       " 'ethink@enron.com': 7,\n",
       " 'paul.racicot@enron.com': 7,\n",
       " 'm..schmidt@enron.com': 7,\n",
       " 'hema@izhuta.com': 7,\n",
       " 'david.easterby@enron.com': 7,\n",
       " 'andy.walker@enron.com': 7,\n",
       " 'chengdi.bao@enron.com': 7,\n",
       " 'curtis.reister@enron.com': 7,\n",
       " 'dan.cummings@enron.com': 7,\n",
       " 'donnie.hall@enron.com': 7,\n",
       " 'jonathan.lennard@enron.com': 7,\n",
       " 'alejandra.chavez@enron.com': 7,\n",
       " 'r..conner@enron.com': 7,\n",
       " 'andrea.dahlke@enron.com': 7,\n",
       " 'alexios.kollaros@enron.com': 7,\n",
       " 'bryan.lari@enron.com': 7,\n",
       " 'barry.pearce@enron.com': 7,\n",
       " 'andrea.ring@enron.com': 7,\n",
       " 'brant.reves@enron.com': 7,\n",
       " 'beatrice.reyna@enron.com': 7,\n",
       " 'darren.vanek@enron.com': 7,\n",
       " 'gallin.fortunov@enron.com': 7,\n",
       " 'frank.karbarz@enron.com': 7,\n",
       " 'sabina.rank@enron.com': 7,\n",
       " 'heather.alon@enron.com': 7,\n",
       " 'israel.estrada@enron.com': 7,\n",
       " 'gabriel.monroy@enron.com': 7,\n",
       " 'george.rivas@enron.com': 7,\n",
       " 'jeanette.reese@enron.com': 7,\n",
       " 'jeff.richter@enron.com': 7,\n",
       " 'general.announcement@enron.com': 7,\n",
       " 'holfati@ispheres.com': 7,\n",
       " 'ldgray@flex.net': 7,\n",
       " 'kevinm@home.hern.org': 7,\n",
       " 'ordan.larimore@lehman.com': 7,\n",
       " 'aechristie@aol.com': 7,\n",
       " 'ermakfdy@aol.com': 7,\n",
       " 'peter.berger@enron.com': 7,\n",
       " 'bvotaw@enron.com': 7,\n",
       " 'hgutier@enron.com': 7,\n",
       " 'remi.collonges@enron.com': 7,\n",
       " 'monica.mack@chase.com': 7,\n",
       " 'magdelena.cruz@enron.com': 7,\n",
       " 'kischa.gipson@enron.com': 7,\n",
       " 'carolyn.barrett@enron.com': 7,\n",
       " 'andrew.marsden@enron.com': 7,\n",
       " 'brian.stanley@enron.com': 7,\n",
       " 'greg.grissom@enron.com': 7,\n",
       " 'ananda.mukerji@enron.com': 6,\n",
       " 'sandeep.kohli@enron.com': 6,\n",
       " 'speterson@seade.com': 6,\n",
       " 'gborlenghi@interfin.com': 6,\n",
       " 'bhotzemind@aol.com': 6,\n",
       " 'dmurph56@aol.com': 6,\n",
       " 'jan_levine@travisintl.com': 6,\n",
       " 'marc_graubart@enron.net': 6,\n",
       " 'joemar40@msn.com': 6,\n",
       " 'richard.lammers@enron.com': 6,\n",
       " 'service@sbsubscriber.com': 6,\n",
       " 'david.communications@enron.com': 6,\n",
       " 'steve.communications@enron.com': 6,\n",
       " 'kimb@nbcham.org': 6,\n",
       " 'michael.mauboussin@csfb.com': 6,\n",
       " 'rblumberg@ajunto.com': 6,\n",
       " 'brad.carey@enron.com': 6,\n",
       " 'tammy.shepperd@enron.com': 6,\n",
       " 'shelley.corman@enron.com': 6,\n",
       " 'robert.jones@enron.com': 6,\n",
       " 'dennis.vegas@enron.com': 6,\n",
       " 'aparks@acop.com': 6,\n",
       " 'ashok.mehta@enron.com': 6,\n",
       " 'kalen.pieper@enron.com': 6,\n",
       " 'sean.zurbrick@enron.com': 6,\n",
       " 'amy.fitzpatrick@enron.com': 6,\n",
       " 'priya.jaisinghani@enron.com': 6,\n",
       " 'neil@wtn.net': 6,\n",
       " 'mitch.taylor@enron.com': 6,\n",
       " 'rich.dimichele@enron.com': 6,\n",
       " 'gayle.muench@enron.com': 6,\n",
       " 'richard.dimichele@enron.com': 6,\n",
       " 'starwoodmbrs@spg.0mm.com': 6,\n",
       " 'debra.hicks@enron.com': 6,\n",
       " 'nina.garcia@enron.com': 6,\n",
       " 'larry.ciscon@enron.com': 6,\n",
       " 'ginger.dernehl@enron.com': 6,\n",
       " 'tom.mashington@enron.com': 6,\n",
       " 'ross.mesquita@enron.com': 6,\n",
       " 'amy.wilson@enron.com': 6,\n",
       " 'john.echols@enron.com': 6,\n",
       " 'aaron.adams@enron.com': 6,\n",
       " 'ana.agudelo@enron.com': 6,\n",
       " 'billie.akhave@enron.com': 6,\n",
       " 'bridgette.anderson@enron.com': 6,\n",
       " 'bryan.aubuchon@enron.com': 6,\n",
       " 'ashraf.ayyat@enron.com': 6,\n",
       " 'bilal.bajwa@enron.com': 6,\n",
       " 'briant.baker@enron.com': 6,\n",
       " 'arun.balasundaram@enron.com': 6,\n",
       " 'andres.balmaceda@enron.com': 6,\n",
       " 'angela.barnett@enron.com': 6,\n",
       " 'andreas.barschkis@enron.com': 6,\n",
       " 'amit.bartarya@enron.com': 6,\n",
       " 'bryce.baxter@enron.com': 6,\n",
       " 'antoinette.beale@enron.com': 6,\n",
       " 'angeles.beltri@enron.com': 6,\n",
       " 'aaron.berutti@enron.com': 6,\n",
       " 'amy.bundscho@enron.com': 6,\n",
       " 'bryan.burch@enron.com': 6,\n",
       " 'aliza.burgess@enron.com': 6,\n",
       " 'andrew.burns@enron.com': 6,\n",
       " 'adam.caldwell@enron.com': 6,\n",
       " 'anthony.campos@enron.com': 6,\n",
       " 'brenda.cassel@enron.com': 6,\n",
       " 'amy.cavazos@enron.com': 6,\n",
       " 'betty.chan@enron.com': 6,\n",
       " 'aneela.charania@enron.com': 6,\n",
       " 'angela.chen@enron.com': 6,\n",
       " 'benjamin.chi@enron.com': 6,\n",
       " 'andy.chun@enron.com': 6,\n",
       " 'audrey.cook@enron.com': 6,\n",
       " 'barbara.cook@enron.com': 6,\n",
       " 'brooklyn.couch@enron.com': 6,\n",
       " 'beth.cowan@enron.com': 6,\n",
       " 'bryan.critchfield@enron.com': 6,\n",
       " 'bernard.dahanayake@enron.com': 6,\n",
       " 'brian.davis@enron.com': 6,\n",
       " 'bali.dey@enron.com': 6,\n",
       " 'ajit.dhansinghani@enron.com': 6,\n",
       " 'amitava.dhar@enron.com': 6,\n",
       " 'bradley.diebner@enron.com': 6,\n",
       " 'm..docwra@enron.com': 6,\n",
       " 'bill.doran@enron.com': 6,\n",
       " 'alan.engberg@enron.com': 6,\n",
       " 'brian.eoff@enron.com': 6,\n",
       " 'brian.evans@enron.com': 6,\n",
       " 'ahmad.farooqi@enron.com': 6,\n",
       " 'brian.fogarty@enron.com': 6,\n",
       " 'brian.fogherty@enron.com': 6,\n",
       " 'allan.ford@enron.com': 6,\n",
       " 'bill.fortney@enron.com': 6,\n",
       " 'bryant.frihart@enron.com': 6,\n",
       " 'alex.fuller@enron.com': 6,\n",
       " 'alok.garg@enron.com': 6,\n",
       " 'brenda.giddings@enron.com': 6,\n",
       " 'brian.gillis@enron.com': 6,\n",
       " 'bill.greenizan@enron.com': 6,\n",
       " 'alisha.guerrero@enron.com': 6,\n",
       " 'r..guillen@enron.com': 6,\n",
       " 'ahmed.haque@enron.com': 6,\n",
       " 'd..hare@enron.com': 6,\n",
       " 'bruce.harris@enron.com': 6,\n",
       " 'andrew.hawthorn@enron.com': 6,\n",
       " 'brian.hendon@enron.com': 6,\n",
       " 'f..herod@enron.com': 6,\n",
       " 'andrew.hill@enron.com': 6,\n",
       " 'anthony.hill@enron.com': 6,\n",
       " 'alton.honore@enron.com': 6,\n",
       " 'brad.horn@enron.com': 6,\n",
       " 'bryan.hull@enron.com': 6,\n",
       " 'alton.jackson@enron.com': 6,\n",
       " 'aaron.jang@enron.com': 6,\n",
       " 'brent.johnston@enron.com': 6,\n",
       " 'amy.jones@enron.com': 6,\n",
       " 'bill.kefalas@enron.com': 6,\n",
       " 'bilal.khaleeq@enron.com': 6,\n",
       " 'akhil.khanijo@enron.com': 6,\n",
       " ...}"
      ]
     },
     "execution_count": 24,
     "metadata": {},
     "output_type": "execute_result"
    }
   ],
   "source": [
    "contact_freqs"
   ]
  },
  {
   "cell_type": "code",
   "execution_count": 25,
   "id": "undefined-istanbul",
   "metadata": {},
   "outputs": [],
   "source": [
    "sherri_idx = []\n",
    "ken_idx = []\n",
    "for index,row in df_poi.iterrows():\n",
    "    if row['To']:\n",
    "        if 'sherri.sera@enron.com' in row['To']:\n",
    "            sherri_idx.append(index)\n",
    "        if 'kenneth.lay@enron.com' in row['To']:\n",
    "            ken_idx.append(index)\n",
    "    if 'sherri.sera@enron.com' in row['From']:\n",
    "        sherri_idx.append(index)\n",
    "    if 'kenneth.lay@enron.com' in row['From']:\n",
    "        ken_idx.append(index)\n",
    "        "
   ]
  },
  {
   "cell_type": "code",
   "execution_count": 26,
   "id": "roman-football",
   "metadata": {},
   "outputs": [],
   "source": [
    "df_sherri = df_poi[df_poi.index.isin(sherri_idx)]\n",
    "df_ken = df_poi[df_poi.index.isin(ken_idx)]"
   ]
  },
  {
   "cell_type": "code",
   "execution_count": 27,
   "id": "signal-memorabilia",
   "metadata": {},
   "outputs": [],
   "source": [
    "sherri_model = Cluster(df_sherri,4)"
   ]
  },
  {
   "cell_type": "code",
   "execution_count": 28,
   "id": "honest-tournament",
   "metadata": {},
   "outputs": [
    {
     "data": {
      "image/png": "[encoded data removed]",
      "text/plain": [
       "<Figure size 432x288 with 1 Axes>"
      ]
     },
     "metadata": {
      "needs_background": "light"
     },
     "output_type": "display_data"
    }
   ],
   "source": [
    "c = sherri_model.dbscan(0.1)"
   ]
  },
  {
   "cell_type": "code",
   "execution_count": 29,
   "id": "lyric-skiing",
   "metadata": {},
   "outputs": [],
   "source": [
    "sherri_features = sherri_model.get_top_features(30)"
   ]
  },
  {
   "cell_type": "code",
   "execution_count": 53,
   "id": "destroyed-mambo",
   "metadata": {},
   "outputs": [
    {
     "data": {
      "text/plain": [
       "<AxesSubplot:xlabel='score', ylabel='features'>"
      ]
     },
     "execution_count": 53,
     "metadata": {},
     "output_type": "execute_result"
    },
    {
     "data": {
      "image/png": "[encoded data removed]",
      "text/plain": [
       "<Figure size 648x576 with 1 Axes>"
      ]
     },
     "metadata": {
      "needs_background": "light"
     },
     "output_type": "display_data"
    }
   ],
   "source": [
    "plt.figure(figsize=(9,8))\n",
    "sns.barplot(x='score',y='features',orient='h', data = sherri_features[0][:30])"
   ]
  },
  {
   "cell_type": "code",
   "execution_count": 31,
   "id": "solid-sacrifice",
   "metadata": {},
   "outputs": [],
   "source": [
    "ken_model = Cluster(df_ken,3)"
   ]
  },
  {
   "cell_type": "code",
   "execution_count": 32,
   "id": "harmful-narrative",
   "metadata": {},
   "outputs": [
    {
     "data": {
      "image/png": "[encoded data removed]",
      "text/plain": [
       "<Figure size 432x288 with 1 Axes>"
      ]
     },
     "metadata": {
      "needs_background": "light"
     },
     "output_type": "display_data"
    }
   ],
   "source": [
    "ken_model.plot_data(ken_model.labels)"
   ]
  },
  {
   "cell_type": "code",
   "execution_count": 33,
   "id": "purple-grave",
   "metadata": {},
   "outputs": [],
   "source": [
    "ken_features = ken_model.get_top_features(30)"
   ]
  },
  {
   "cell_type": "code",
   "execution_count": 46,
   "id": "experimental-naples",
   "metadata": {},
   "outputs": [
    {
     "data": {
      "text/plain": [
       "<AxesSubplot:xlabel='score', ylabel='features'>"
      ]
     },
     "execution_count": 46,
     "metadata": {},
     "output_type": "execute_result"
    },
    {
     "data": {
      "image/png": "[encoded data removed]",
      "text/plain": [
       "<Figure size 648x576 with 1 Axes>"
      ]
     },
     "metadata": {
      "needs_background": "light"
     },
     "output_type": "display_data"
    }
   ],
   "source": [
    "plt.figure(figsize=(9,8))\n",
    "sns.barplot(x='score',y='features',orient='h', data = ken_features[0][:30])"
   ]
  },
  {
   "cell_type": "markdown",
   "id": "answering-faculty",
   "metadata": {},
   "source": [
    "### Output dataframes"
   ]
  },
  {
   "cell_type": "code",
   "execution_count": 35,
   "id": "compact-container",
   "metadata": {},
   "outputs": [],
   "source": [
    "df_fraud.to_csv(os.getcwd()+'fraud_docs.csv')\n",
    "df_litigation.to_csv(os.getcwd()+'litigation_docs.csv')\n",
    "df_bankrupt.to_csv(os.getcwd()+'bankrupt_docs.csv')\n",
    "df_key_timeframe.to_csv(os.getcwd()+'key_timeframe_docs.csv')\n",
    "df_sherri.to_csv(os.getcwd()+'sherri_docs.csv')\n",
    "df_ken.to_csv(os.getcwd()+'ken_docs.csv')"
   ]
  },
  {
   "cell_type": "markdown",
   "id": "becoming-tokyo",
   "metadata": {},
   "source": [
    "### Deleted items"
   ]
  },
  {
   "cell_type": "code",
   "execution_count": 36,
   "id": "alleged-heating",
   "metadata": {},
   "outputs": [],
   "source": [
    "deleted_items_model = Cluster(df_all_docs[df_all_docs['category'] == 'deleted_items'],4)"
   ]
  },
  {
   "cell_type": "code",
   "execution_count": null,
   "id": "conceptual-product",
   "metadata": {},
   "outputs": [],
   "source": [
    "deleted_items_model.plot_data(deleted_items_model.labels)"
   ]
  },
  {
   "cell_type": "code",
   "execution_count": null,
   "id": "political-cheese",
   "metadata": {},
   "outputs": [],
   "source": [
    "deleted_features = deleted_items_model.get_top_features(30)"
   ]
  },
  {
   "cell_type": "code",
   "execution_count": null,
   "id": "moving-encounter",
   "metadata": {},
   "outputs": [],
   "source": [
    "plt.figure(figsize=(9,8))\n",
    "sns.barplot(x='score',y='features',orient='h', data = deleted_features[0][:30])"
   ]
  },
  {
   "cell_type": "markdown",
   "id": "passing-slave",
   "metadata": {},
   "source": [
    "### Inbox\n"
   ]
  },
  {
   "cell_type": "code",
   "execution_count": null,
   "id": "circular-stand",
   "metadata": {},
   "outputs": [],
   "source": [
    "inbox_model = Cluster(df_all_docs[df_all_docs['category'] == 'inbox'],4)"
   ]
  },
  {
   "cell_type": "code",
   "execution_count": null,
   "id": "remarkable-theme",
   "metadata": {},
   "outputs": [],
   "source": [
    "inbox_model.plot_data(inbox_model.labels)"
   ]
  },
  {
   "cell_type": "code",
   "execution_count": null,
   "id": "lasting-nevada",
   "metadata": {},
   "outputs": [],
   "source": [
    "inbox_model_features = inbox_model.get_top_features(30)"
   ]
  },
  {
   "cell_type": "code",
   "execution_count": null,
   "id": "religious-marks",
   "metadata": {},
   "outputs": [],
   "source": [
    "plt.figure(figsize=(9,8))\n",
    "sns.barplot(x='score',y='features',orient='h', data = inbox_model_features[0][:30])"
   ]
  },
  {
   "cell_type": "markdown",
   "id": "powerful-thesaurus",
   "metadata": {},
   "source": [
    "### Sent mail"
   ]
  },
  {
   "cell_type": "code",
   "execution_count": null,
   "id": "numerical-package",
   "metadata": {},
   "outputs": [],
   "source": [
    "sent_model = Cluster(df_all_docs[df_all_docs['category'] == 'sent'],4)"
   ]
  },
  {
   "cell_type": "code",
   "execution_count": null,
   "id": "standard-gossip",
   "metadata": {},
   "outputs": [],
   "source": [
    "sent_model.plot_data(sent_model.labels)"
   ]
  },
  {
   "cell_type": "code",
   "execution_count": null,
   "id": "three-poison",
   "metadata": {},
   "outputs": [],
   "source": [
    "sent_model_features = sent_model.get_top_features(30)"
   ]
  },
  {
   "cell_type": "code",
   "execution_count": null,
   "id": "communist-consolidation",
   "metadata": {},
   "outputs": [],
   "source": [
    "plt.figure(figsize=(9,8))\n",
    "sns.barplot(x='score',y='features',orient='h', data = sent_model_features[3][:30])"
   ]
  },
  {
   "cell_type": "code",
   "execution_count": null,
   "id": "indie-temperature",
   "metadata": {},
   "outputs": [],
   "source": []
  }
 ],
 "metadata": {
  "kernelspec": {
   "display_name": "Python 3",
   "language": "python",
   "name": "python3"
  },
  "language_info": {
   "codemirror_mode": {
    "name": "ipython",
    "version": 3
   },
   "file_extension": ".py",
   "mimetype": "text/x-python",
   "name": "python",
   "nbconvert_exporter": "python",
   "pygments_lexer": "ipython3",
   "version": "3.8.4"
  }
 },
 "nbformat": 4,
 "nbformat_minor": 5
}
